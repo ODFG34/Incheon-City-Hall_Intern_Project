{
 "cells": [
  {
   "cell_type": "code",
   "execution_count": 1,
   "metadata": {},
   "outputs": [],
   "source": [
    "import pandas as pd\n",
    "import numpy as np"
   ]
  },
  {
   "cell_type": "code",
   "execution_count": 7,
   "metadata": {},
   "outputs": [],
   "source": [
    "ec = pd.read_csv(\"전기자동차등록현황2.csv\", encoding = \"UTF-8\")"
   ]
  },
  {
   "cell_type": "code",
   "execution_count": 8,
   "metadata": {},
   "outputs": [],
   "source": [
    "#pd.set_option('display.max_colwidth', -1) # 각 Column width 최대로\n",
    "\n",
    "pd.set_option('display.max_rows', 100000)\n",
    "pd.set_option('display.max_columns', 100)"
   ]
  },
  {
   "cell_type": "code",
   "execution_count": 19,
   "metadata": {},
   "outputs": [
    {
     "data": {
      "text/html": [
       "<div>\n",
       "<style scoped>\n",
       "    .dataframe tbody tr th:only-of-type {\n",
       "        vertical-align: middle;\n",
       "    }\n",
       "\n",
       "    .dataframe tbody tr th {\n",
       "        vertical-align: top;\n",
       "    }\n",
       "\n",
       "    .dataframe thead th {\n",
       "        text-align: right;\n",
       "    }\n",
       "</style>\n",
       "<table border=\"1\" class=\"dataframe\">\n",
       "  <thead>\n",
       "    <tr style=\"text-align: right;\">\n",
       "      <th></th>\n",
       "      <th>차명</th>\n",
       "      <th>모델연도</th>\n",
       "      <th>사용본거지주소</th>\n",
       "      <th>매칭주소</th>\n",
       "      <th>새우편번호</th>\n",
       "      <th>지번주소 상위부분</th>\n",
       "      <th>지번주소 하위부분</th>\n",
       "      <th>새주소 상위부분</th>\n",
       "      <th>새주소 하위부분</th>\n",
       "      <th>주소정제결과코드</th>\n",
       "      <th>지번코드</th>\n",
       "      <th>새주소 건물관리번호</th>\n",
       "      <th>광역시도코드</th>\n",
       "      <th>광역시도명</th>\n",
       "      <th>시군구코드</th>\n",
       "      <th>시군구명</th>\n",
       "      <th>비자치행정구역코드</th>\n",
       "      <th>3차행정구역명</th>\n",
       "      <th>법정동코드</th>\n",
       "      <th>법정동명</th>\n",
       "    </tr>\n",
       "  </thead>\n",
       "  <tbody>\n",
       "    <tr>\n",
       "      <th>0</th>\n",
       "      <td>코나 일렉트릭 (KONA ELECTRIC)</td>\n",
       "      <td>2019</td>\n",
       "      <td>인천광역시 강화군 선원면 중앙로 219</td>\n",
       "      <td>인천광역시 강화군 선원면 중앙로 219</td>\n",
       "      <td>23041.0</td>\n",
       "      <td>인천광역시 강화군 선원면 창리</td>\n",
       "      <td>587번지</td>\n",
       "      <td>인천광역시 강화군 선원면 중앙로</td>\n",
       "      <td>219, (창리)</td>\n",
       "      <td>1</td>\n",
       "      <td>2.870000e+18</td>\n",
       "      <td>2.870000e+24</td>\n",
       "      <td>28</td>\n",
       "      <td>인천광역시</td>\n",
       "      <td>28710</td>\n",
       "      <td>강화군</td>\n",
       "      <td>NaN</td>\n",
       "      <td>NaN</td>\n",
       "      <td>2.871031e+09</td>\n",
       "      <td>선원면</td>\n",
       "    </tr>\n",
       "    <tr>\n",
       "      <th>1</th>\n",
       "      <td>CHEVROLET BOLT EV</td>\n",
       "      <td>2019</td>\n",
       "      <td>인천광역시 부평구 길주로508번길 18-22, 17동 403호 (청천동, 세종대원빌라)</td>\n",
       "      <td>인천광역시 부평구 길주로508번길 18-22</td>\n",
       "      <td>21364.0</td>\n",
       "      <td>인천광역시 부평구 청천동</td>\n",
       "      <td>301-11번지 세종대원빌라 403호</td>\n",
       "      <td>인천광역시 부평구 길주로508번길</td>\n",
       "      <td>18-22, 403호 (청천동, 세종대원빌라)</td>\n",
       "      <td>1</td>\n",
       "      <td>2.820000e+18</td>\n",
       "      <td>2.820000e+24</td>\n",
       "      <td>28</td>\n",
       "      <td>인천광역시</td>\n",
       "      <td>28237</td>\n",
       "      <td>부평구</td>\n",
       "      <td>NaN</td>\n",
       "      <td>NaN</td>\n",
       "      <td>2.823710e+09</td>\n",
       "      <td>청천동</td>\n",
       "    </tr>\n",
       "  </tbody>\n",
       "</table>\n",
       "</div>"
      ],
      "text/plain": [
       "                        차명  모델연도  \\\n",
       "0  코나 일렉트릭 (KONA ELECTRIC)  2019   \n",
       "1        CHEVROLET BOLT EV  2019   \n",
       "\n",
       "                                            사용본거지주소                      매칭주소  \\\n",
       "0                             인천광역시 강화군 선원면 중앙로 219     인천광역시 강화군 선원면 중앙로 219   \n",
       "1  인천광역시 부평구 길주로508번길 18-22, 17동 403호 (청천동, 세종대원빌라)  인천광역시 부평구 길주로508번길 18-22   \n",
       "\n",
       "     새우편번호         지번주소 상위부분             지번주소 하위부분            새주소 상위부분  \\\n",
       "0  23041.0  인천광역시 강화군 선원면 창리                587번지    인천광역시 강화군 선원면 중앙로   \n",
       "1  21364.0     인천광역시 부평구 청천동  301-11번지 세종대원빌라 403호  인천광역시 부평구 길주로508번길   \n",
       "\n",
       "                    새주소 하위부분  주소정제결과코드          지번코드    새주소 건물관리번호  광역시도코드  \\\n",
       "0                  219, (창리)         1  2.870000e+18  2.870000e+24      28   \n",
       "1  18-22, 403호 (청천동, 세종대원빌라)         1  2.820000e+18  2.820000e+24      28   \n",
       "\n",
       "   광역시도명  시군구코드 시군구명  비자치행정구역코드  3차행정구역명         법정동코드 법정동명  \n",
       "0  인천광역시  28710  강화군        NaN      NaN  2.871031e+09  선원면  \n",
       "1  인천광역시  28237  부평구        NaN      NaN  2.823710e+09  청천동  "
      ]
     },
     "execution_count": 19,
     "metadata": {},
     "output_type": "execute_result"
    }
   ],
   "source": [
    "ec.iloc[:2, :20]"
   ]
  },
  {
   "cell_type": "code",
   "execution_count": 18,
   "metadata": {},
   "outputs": [
    {
     "data": {
      "text/html": [
       "<div>\n",
       "<style scoped>\n",
       "    .dataframe tbody tr th:only-of-type {\n",
       "        vertical-align: middle;\n",
       "    }\n",
       "\n",
       "    .dataframe tbody tr th {\n",
       "        vertical-align: top;\n",
       "    }\n",
       "\n",
       "    .dataframe thead th {\n",
       "        text-align: right;\n",
       "    }\n",
       "</style>\n",
       "<table border=\"1\" class=\"dataframe\">\n",
       "  <thead>\n",
       "    <tr style=\"text-align: right;\">\n",
       "      <th></th>\n",
       "      <th>행정동코드</th>\n",
       "      <th>행정동명</th>\n",
       "      <th>리명</th>\n",
       "      <th>건물명</th>\n",
       "      <th>동명</th>\n",
       "      <th>호명</th>\n",
       "      <th>층</th>\n",
       "      <th>지목</th>\n",
       "      <th>주번지</th>\n",
       "      <th>부번지</th>\n",
       "      <th>X좌표</th>\n",
       "      <th>Y좌표</th>\n",
       "      <th>새주소 길이름</th>\n",
       "      <th>새주소 주건물번호</th>\n",
       "      <th>새주소 부건물번호</th>\n",
       "      <th>구우편번호</th>\n",
       "      <th>도로명길코드</th>\n",
       "      <th>지상지하구분</th>\n",
       "      <th>새주소건물명</th>\n",
       "      <th>블록코드</th>\n",
       "      <th>새주소변환코드</th>\n",
       "    </tr>\n",
       "  </thead>\n",
       "  <tbody>\n",
       "    <tr>\n",
       "      <th>0</th>\n",
       "      <td>2.871031e+09</td>\n",
       "      <td>선원면</td>\n",
       "      <td>창리</td>\n",
       "      <td>NaN</td>\n",
       "      <td>NaN</td>\n",
       "      <td>NaN</td>\n",
       "      <td>NaN</td>\n",
       "      <td>1</td>\n",
       "      <td>587</td>\n",
       "      <td>0</td>\n",
       "      <td>126.485000</td>\n",
       "      <td>37.725428</td>\n",
       "      <td>중앙로</td>\n",
       "      <td>219</td>\n",
       "      <td>0</td>\n",
       "      <td>417820.0</td>\n",
       "      <td>2.870000e+11</td>\n",
       "      <td>0</td>\n",
       "      <td>선진버스(주)강화지점</td>\n",
       "      <td>NaN</td>\n",
       "      <td>0</td>\n",
       "    </tr>\n",
       "    <tr>\n",
       "      <th>1</th>\n",
       "      <td>2.823759e+09</td>\n",
       "      <td>청천2동</td>\n",
       "      <td>NaN</td>\n",
       "      <td>세종대원빌라</td>\n",
       "      <td>동명없음1</td>\n",
       "      <td>403</td>\n",
       "      <td>NaN</td>\n",
       "      <td>1</td>\n",
       "      <td>301</td>\n",
       "      <td>11</td>\n",
       "      <td>126.718179</td>\n",
       "      <td>37.507173</td>\n",
       "      <td>길주로508번길</td>\n",
       "      <td>18</td>\n",
       "      <td>22</td>\n",
       "      <td>403858.0</td>\n",
       "      <td>2.820000e+11</td>\n",
       "      <td>0</td>\n",
       "      <td>세종대원빌라</td>\n",
       "      <td>NaN</td>\n",
       "      <td>0</td>\n",
       "    </tr>\n",
       "  </tbody>\n",
       "</table>\n",
       "</div>"
      ],
      "text/plain": [
       "          행정동코드  행정동명   리명     건물명     동명   호명    층  지목  주번지  부번지         X좌표  \\\n",
       "0  2.871031e+09   선원면   창리     NaN    NaN  NaN  NaN   1  587    0  126.485000   \n",
       "1  2.823759e+09  청천2동  NaN  세종대원빌라  동명없음1  403  NaN   1  301   11  126.718179   \n",
       "\n",
       "         Y좌표   새주소 길이름  새주소 주건물번호  새주소 부건물번호     구우편번호        도로명길코드  지상지하구분  \\\n",
       "0  37.725428       중앙로        219          0  417820.0  2.870000e+11       0   \n",
       "1  37.507173  길주로508번길         18         22  403858.0  2.820000e+11       0   \n",
       "\n",
       "        새주소건물명  블록코드  새주소변환코드  \n",
       "0  선진버스(주)강화지점   NaN        0  \n",
       "1       세종대원빌라   NaN        0  "
      ]
     },
     "execution_count": 18,
     "metadata": {},
     "output_type": "execute_result"
    }
   ],
   "source": [
    "ec.iloc[:2, 20:]"
   ]
  },
  {
   "cell_type": "markdown",
   "metadata": {},
   "source": [
    "### => 사용할 Columns : 차명, 모델연도,  사용본거지주소, 새우편번호, 주소정제결과코드, 시군구코드, 시군구명, 법정동코드, 법정동명, 행정동코드, 행정동명, X좌표, Y좌표, 새주소변환코드"
   ]
  },
  {
   "cell_type": "code",
   "execution_count": 31,
   "metadata": {},
   "outputs": [
    {
     "data": {
      "text/plain": [
       "Index(['차명', '모델연도', '사용본거지주소', '매칭주소', '새우편번호', '지번주소 상위부분', '지번주소 하위부분',\n",
       "       '새주소 상위부분', '새주소 하위부분', '주소정제결과코드', '지번코드', '새주소 건물관리번호', '광역시도코드',\n",
       "       '광역시도명', '시군구코드', '시군구명', '비자치행정구역코드', '3차행정구역명', '법정동코드', '법정동명',\n",
       "       '행정동코드', '행정동명', '리명', '건물명', '동명', '호명', '층', '지목', '주번지', '부번지',\n",
       "       'X좌표', 'Y좌표', '새주소 길이름', '새주소 주건물번호', '새주소 부건물번호', '구우편번호', '도로명길코드',\n",
       "       '지상지하구분', '새주소건물명', '블록코드', '새주소변환코드'],\n",
       "      dtype='object')"
      ]
     },
     "execution_count": 31,
     "metadata": {},
     "output_type": "execute_result"
    }
   ],
   "source": [
    "ec.columns"
   ]
  },
  {
   "cell_type": "code",
   "execution_count": 36,
   "metadata": {},
   "outputs": [
    {
     "data": {
      "text/plain": [
       "481"
      ]
     },
     "execution_count": 36,
     "metadata": {},
     "output_type": "execute_result"
    }
   ],
   "source": [
    "len(ec[\"구우편번호\"].unique())"
   ]
  },
  {
   "cell_type": "code",
   "execution_count": 37,
   "metadata": {},
   "outputs": [
    {
     "data": {
      "text/plain": [
       "91"
      ]
     },
     "execution_count": 37,
     "metadata": {},
     "output_type": "execute_result"
    }
   ],
   "source": [
    "ec[\"구우편번호\"].isnull().sum()"
   ]
  },
  {
   "cell_type": "code",
   "execution_count": 40,
   "metadata": {},
   "outputs": [],
   "source": [
    "ec2 = ec.loc[:,[\"차명\", \"모델연도\",  \"사용본거지주소\", \"새우편번호\", \"주소정제결과코드\", \"시군구코드\", \"시군구명\", \"법정동코드\", \"법정동명\", \"행정동코드\", \"행정동명\", \"X좌표\", \"Y좌표\", \"새주소변환코드\"]]"
   ]
  },
  {
   "cell_type": "code",
   "execution_count": 41,
   "metadata": {},
   "outputs": [
    {
     "data": {
      "text/html": [
       "<div>\n",
       "<style scoped>\n",
       "    .dataframe tbody tr th:only-of-type {\n",
       "        vertical-align: middle;\n",
       "    }\n",
       "\n",
       "    .dataframe tbody tr th {\n",
       "        vertical-align: top;\n",
       "    }\n",
       "\n",
       "    .dataframe thead th {\n",
       "        text-align: right;\n",
       "    }\n",
       "</style>\n",
       "<table border=\"1\" class=\"dataframe\">\n",
       "  <thead>\n",
       "    <tr style=\"text-align: right;\">\n",
       "      <th></th>\n",
       "      <th>차명</th>\n",
       "      <th>모델연도</th>\n",
       "      <th>사용본거지주소</th>\n",
       "      <th>새우편번호</th>\n",
       "      <th>주소정제결과코드</th>\n",
       "      <th>시군구코드</th>\n",
       "      <th>시군구명</th>\n",
       "      <th>법정동코드</th>\n",
       "      <th>법정동명</th>\n",
       "      <th>행정동코드</th>\n",
       "      <th>행정동명</th>\n",
       "      <th>X좌표</th>\n",
       "      <th>Y좌표</th>\n",
       "      <th>새주소변환코드</th>\n",
       "    </tr>\n",
       "  </thead>\n",
       "  <tbody>\n",
       "    <tr>\n",
       "      <th>0</th>\n",
       "      <td>코나 일렉트릭 (KONA ELECTRIC)</td>\n",
       "      <td>2019</td>\n",
       "      <td>인천광역시 강화군 선원면 중앙로 219</td>\n",
       "      <td>23041.0</td>\n",
       "      <td>1</td>\n",
       "      <td>28710</td>\n",
       "      <td>강화군</td>\n",
       "      <td>2.871031e+09</td>\n",
       "      <td>선원면</td>\n",
       "      <td>2.871031e+09</td>\n",
       "      <td>선원면</td>\n",
       "      <td>126.485</td>\n",
       "      <td>37.725428</td>\n",
       "      <td>0</td>\n",
       "    </tr>\n",
       "  </tbody>\n",
       "</table>\n",
       "</div>"
      ],
      "text/plain": [
       "                        차명  모델연도                사용본거지주소    새우편번호  주소정제결과코드  \\\n",
       "0  코나 일렉트릭 (KONA ELECTRIC)  2019  인천광역시 강화군 선원면 중앙로 219  23041.0         1   \n",
       "\n",
       "   시군구코드 시군구명         법정동코드 법정동명         행정동코드 행정동명      X좌표        Y좌표  \\\n",
       "0  28710  강화군  2.871031e+09  선원면  2.871031e+09  선원면  126.485  37.725428   \n",
       "\n",
       "   새주소변환코드  \n",
       "0        0  "
      ]
     },
     "execution_count": 41,
     "metadata": {},
     "output_type": "execute_result"
    }
   ],
   "source": [
    "ec2.head(1)"
   ]
  },
  {
   "cell_type": "code",
   "execution_count": 42,
   "metadata": {},
   "outputs": [
    {
     "data": {
      "text/html": [
       "<div>\n",
       "<style scoped>\n",
       "    .dataframe tbody tr th:only-of-type {\n",
       "        vertical-align: middle;\n",
       "    }\n",
       "\n",
       "    .dataframe tbody tr th {\n",
       "        vertical-align: top;\n",
       "    }\n",
       "\n",
       "    .dataframe thead th {\n",
       "        text-align: right;\n",
       "    }\n",
       "</style>\n",
       "<table border=\"1\" class=\"dataframe\">\n",
       "  <thead>\n",
       "    <tr style=\"text-align: right;\">\n",
       "      <th></th>\n",
       "      <th>모델연도</th>\n",
       "      <th>새우편번호</th>\n",
       "      <th>주소정제결과코드</th>\n",
       "      <th>시군구코드</th>\n",
       "      <th>법정동코드</th>\n",
       "      <th>행정동코드</th>\n",
       "      <th>X좌표</th>\n",
       "      <th>Y좌표</th>\n",
       "      <th>새주소변환코드</th>\n",
       "    </tr>\n",
       "  </thead>\n",
       "  <tbody>\n",
       "    <tr>\n",
       "      <th>count</th>\n",
       "      <td>1898.000000</td>\n",
       "      <td>1864.000000</td>\n",
       "      <td>1898.000000</td>\n",
       "      <td>1.898000e+03</td>\n",
       "      <td>1.864000e+03</td>\n",
       "      <td>1.865000e+03</td>\n",
       "      <td>1863.000000</td>\n",
       "      <td>1863.000000</td>\n",
       "      <td>1898.000000</td>\n",
       "    </tr>\n",
       "    <tr>\n",
       "      <th>mean</th>\n",
       "      <td>2017.849315</td>\n",
       "      <td>22096.918455</td>\n",
       "      <td>1.090095</td>\n",
       "      <td>4.899693e+07</td>\n",
       "      <td>2.824666e+09</td>\n",
       "      <td>2.824739e+09</td>\n",
       "      <td>126.652782</td>\n",
       "      <td>37.488205</td>\n",
       "      <td>0.028451</td>\n",
       "    </tr>\n",
       "    <tr>\n",
       "      <th>std</th>\n",
       "      <td>1.666265</td>\n",
       "      <td>592.319508</td>\n",
       "      <td>0.660503</td>\n",
       "      <td>3.682274e+08</td>\n",
       "      <td>1.430323e+07</td>\n",
       "      <td>1.432539e+07</td>\n",
       "      <td>0.085253</td>\n",
       "      <td>0.084917</td>\n",
       "      <td>0.211009</td>\n",
       "    </tr>\n",
       "    <tr>\n",
       "      <th>min</th>\n",
       "      <td>2005.000000</td>\n",
       "      <td>21003.000000</td>\n",
       "      <td>1.000000</td>\n",
       "      <td>2.811000e+04</td>\n",
       "      <td>2.811011e+09</td>\n",
       "      <td>2.811052e+09</td>\n",
       "      <td>126.144700</td>\n",
       "      <td>37.227673</td>\n",
       "      <td>0.000000</td>\n",
       "    </tr>\n",
       "    <tr>\n",
       "      <th>25%</th>\n",
       "      <td>2017.000000</td>\n",
       "      <td>21589.000000</td>\n",
       "      <td>1.000000</td>\n",
       "      <td>2.818500e+04</td>\n",
       "      <td>2.818511e+09</td>\n",
       "      <td>2.818582e+09</td>\n",
       "      <td>126.639823</td>\n",
       "      <td>37.426161</td>\n",
       "      <td>0.000000</td>\n",
       "    </tr>\n",
       "    <tr>\n",
       "      <th>50%</th>\n",
       "      <td>2018.000000</td>\n",
       "      <td>22008.000000</td>\n",
       "      <td>1.000000</td>\n",
       "      <td>2.820000e+04</td>\n",
       "      <td>2.820011e+09</td>\n",
       "      <td>2.820071e+09</td>\n",
       "      <td>126.665984</td>\n",
       "      <td>37.487449</td>\n",
       "      <td>0.000000</td>\n",
       "    </tr>\n",
       "    <tr>\n",
       "      <th>75%</th>\n",
       "      <td>2019.000000</td>\n",
       "      <td>22687.250000</td>\n",
       "      <td>1.000000</td>\n",
       "      <td>2.826000e+04</td>\n",
       "      <td>2.826011e+09</td>\n",
       "      <td>2.826053e+09</td>\n",
       "      <td>126.715566</td>\n",
       "      <td>37.533518</td>\n",
       "      <td>0.000000</td>\n",
       "    </tr>\n",
       "    <tr>\n",
       "      <th>max</th>\n",
       "      <td>2020.000000</td>\n",
       "      <td>23130.000000</td>\n",
       "      <td>6.000000</td>\n",
       "      <td>2.826000e+09</td>\n",
       "      <td>2.872037e+09</td>\n",
       "      <td>2.872037e+09</td>\n",
       "      <td>126.755510</td>\n",
       "      <td>37.811803</td>\n",
       "      <td>3.000000</td>\n",
       "    </tr>\n",
       "  </tbody>\n",
       "</table>\n",
       "</div>"
      ],
      "text/plain": [
       "              모델연도         새우편번호     주소정제결과코드         시군구코드         법정동코드  \\\n",
       "count  1898.000000   1864.000000  1898.000000  1.898000e+03  1.864000e+03   \n",
       "mean   2017.849315  22096.918455     1.090095  4.899693e+07  2.824666e+09   \n",
       "std       1.666265    592.319508     0.660503  3.682274e+08  1.430323e+07   \n",
       "min    2005.000000  21003.000000     1.000000  2.811000e+04  2.811011e+09   \n",
       "25%    2017.000000  21589.000000     1.000000  2.818500e+04  2.818511e+09   \n",
       "50%    2018.000000  22008.000000     1.000000  2.820000e+04  2.820011e+09   \n",
       "75%    2019.000000  22687.250000     1.000000  2.826000e+04  2.826011e+09   \n",
       "max    2020.000000  23130.000000     6.000000  2.826000e+09  2.872037e+09   \n",
       "\n",
       "              행정동코드          X좌표          Y좌표      새주소변환코드  \n",
       "count  1.865000e+03  1863.000000  1863.000000  1898.000000  \n",
       "mean   2.824739e+09   126.652782    37.488205     0.028451  \n",
       "std    1.432539e+07     0.085253     0.084917     0.211009  \n",
       "min    2.811052e+09   126.144700    37.227673     0.000000  \n",
       "25%    2.818582e+09   126.639823    37.426161     0.000000  \n",
       "50%    2.820071e+09   126.665984    37.487449     0.000000  \n",
       "75%    2.826053e+09   126.715566    37.533518     0.000000  \n",
       "max    2.872037e+09   126.755510    37.811803     3.000000  "
      ]
     },
     "execution_count": 42,
     "metadata": {},
     "output_type": "execute_result"
    }
   ],
   "source": [
    "ec2.describe()"
   ]
  },
  {
   "cell_type": "code",
   "execution_count": 43,
   "metadata": {},
   "outputs": [
    {
     "name": "stdout",
     "output_type": "stream",
     "text": [
      "<class 'pandas.core.frame.DataFrame'>\n",
      "RangeIndex: 1898 entries, 0 to 1897\n",
      "Data columns (total 14 columns):\n",
      "차명          1898 non-null object\n",
      "모델연도        1898 non-null int64\n",
      "사용본거지주소     1898 non-null object\n",
      "새우편번호       1864 non-null float64\n",
      "주소정제결과코드    1898 non-null int64\n",
      "시군구코드       1898 non-null int64\n",
      "시군구명        1898 non-null object\n",
      "법정동코드       1864 non-null float64\n",
      "법정동명        1864 non-null object\n",
      "행정동코드       1865 non-null float64\n",
      "행정동명        1865 non-null object\n",
      "X좌표         1863 non-null float64\n",
      "Y좌표         1863 non-null float64\n",
      "새주소변환코드     1898 non-null int64\n",
      "dtypes: float64(5), int64(4), object(5)\n",
      "memory usage: 207.7+ KB\n"
     ]
    }
   ],
   "source": [
    "ec2.info()"
   ]
  },
  {
   "cell_type": "code",
   "execution_count": 44,
   "metadata": {},
   "outputs": [
    {
     "data": {
      "text/plain": [
       "차명           0\n",
       "모델연도         0\n",
       "사용본거지주소      0\n",
       "새우편번호       34\n",
       "주소정제결과코드     0\n",
       "시군구코드        0\n",
       "시군구명         0\n",
       "법정동코드       34\n",
       "법정동명        34\n",
       "행정동코드       33\n",
       "행정동명        33\n",
       "X좌표         35\n",
       "Y좌표         35\n",
       "새주소변환코드      0\n",
       "dtype: int64"
      ]
     },
     "execution_count": 44,
     "metadata": {},
     "output_type": "execute_result"
    }
   ],
   "source": [
    "ec2.isnull().sum()"
   ]
  },
  {
   "cell_type": "code",
   "execution_count": 59,
   "metadata": {},
   "outputs": [
    {
     "data": {
      "text/plain": [
       "Int64Index([  29,   64,  178,  204,  211,  225,  381,  518,  555,  607,  675,\n",
       "             798,  875,  935,  937, 1049, 1092, 1208, 1249, 1329, 1347, 1376,\n",
       "            1444, 1502, 1575, 1626, 1674, 1679, 1682, 1698, 1757, 1795, 1860,\n",
       "            1873],\n",
       "           dtype='int64')"
      ]
     },
     "execution_count": 59,
     "metadata": {},
     "output_type": "execute_result"
    }
   ],
   "source": [
    "ec2['새우편번호'][ ec2['새우편번호'].isnull() == 1].index"
   ]
  },
  {
   "cell_type": "code",
   "execution_count": 60,
   "metadata": {},
   "outputs": [
    {
     "data": {
      "text/plain": [
       "Int64Index([  29,   64,  178,  204,  211,  225,  381,  518,  555,  607,  675,\n",
       "             798,  875,  935,  937, 1049, 1092, 1208, 1249, 1329, 1347, 1376,\n",
       "            1444, 1502, 1575, 1674, 1679, 1682, 1698, 1757, 1795, 1860, 1873],\n",
       "           dtype='int64')"
      ]
     },
     "execution_count": 60,
     "metadata": {},
     "output_type": "execute_result"
    }
   ],
   "source": [
    "ec2['행정동코드'][ ec2['행정동코드'].isnull() == 1].index"
   ]
  },
  {
   "cell_type": "code",
   "execution_count": 62,
   "metadata": {},
   "outputs": [],
   "source": [
    "ec2.to_csv(\"자동차등록현황_columns_선택.csv\", encoding = \"CP949\")"
   ]
  }
 ],
 "metadata": {
  "kernelspec": {
   "display_name": "Python 3",
   "language": "python",
   "name": "python3"
  },
  "language_info": {
   "codemirror_mode": {
    "name": "ipython",
    "version": 3
   },
   "file_extension": ".py",
   "mimetype": "text/x-python",
   "name": "python",
   "nbconvert_exporter": "python",
   "pygments_lexer": "ipython3",
   "version": "3.7.3"
  }
 },
 "nbformat": 4,
 "nbformat_minor": 2
}
