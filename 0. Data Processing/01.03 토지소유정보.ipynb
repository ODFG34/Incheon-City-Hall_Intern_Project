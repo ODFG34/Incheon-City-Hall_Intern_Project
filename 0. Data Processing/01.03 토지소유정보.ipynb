{
 "cells": [
  {
   "cell_type": "code",
   "execution_count": 1,
   "metadata": {},
   "outputs": [],
   "source": [
    "import pandas as pd\n",
    "import numpy as np"
   ]
  },
  {
   "cell_type": "code",
   "execution_count": 2,
   "metadata": {},
   "outputs": [
    {
     "data": {
      "text/html": [
       "<div>\n",
       "<style scoped>\n",
       "    .dataframe tbody tr th:only-of-type {\n",
       "        vertical-align: middle;\n",
       "    }\n",
       "\n",
       "    .dataframe tbody tr th {\n",
       "        vertical-align: top;\n",
       "    }\n",
       "\n",
       "    .dataframe thead th {\n",
       "        text-align: right;\n",
       "    }\n",
       "</style>\n",
       "<table border=\"1\" class=\"dataframe\">\n",
       "  <thead>\n",
       "    <tr style=\"text-align: right;\">\n",
       "      <th></th>\n",
       "      <th>A0</th>\n",
       "      <th>A1</th>\n",
       "      <th>A2</th>\n",
       "      <th>A8</th>\n",
       "    </tr>\n",
       "  </thead>\n",
       "  <tbody>\n",
       "    <tr>\n",
       "      <th>0</th>\n",
       "      <td>2871041025102930004</td>\n",
       "      <td>2871041025</td>\n",
       "      <td>인천광역시 강화군 삼산면 매음리</td>\n",
       "      <td>개인</td>\n",
       "    </tr>\n",
       "  </tbody>\n",
       "</table>\n",
       "</div>"
      ],
      "text/plain": [
       "                    A0          A1                 A2  A8\n",
       "0  2871041025102930004  2871041025  인천광역시 강화군 삼산면 매음리  개인"
      ]
     },
     "execution_count": 2,
     "metadata": {},
     "output_type": "execute_result"
    }
   ],
   "source": [
    "df = pd.read_csv(\"1.3_토지소유지정보.csv\", encoding = \"CP949\")\n",
    "df.head(1)"
   ]
  },
  {
   "cell_type": "code",
   "execution_count": 5,
   "metadata": {},
   "outputs": [
    {
     "data": {
      "text/plain": [
       "array(['개인', nan, '군유지', '국유지', '시, 도유지', '법인', '일본인, 창씨명등', '기타단체',\n",
       "       '종교단체', '종중', '외국인, 외국공공기관'], dtype=object)"
      ]
     },
     "execution_count": 5,
     "metadata": {},
     "output_type": "execute_result"
    }
   ],
   "source": [
    "df['A8'].unique()"
   ]
  },
  {
   "cell_type": "markdown",
   "metadata": {},
   "source": [
    "# 군유지 국유지 시&도유지 => 국공유지\n",
    "\n",
    "# 법인 개인 일본인 창씨명등 => 사유지\n",
    "\n",
    "# => 색 다르게  "
   ]
  },
  {
   "cell_type": "code",
   "execution_count": null,
   "metadata": {},
   "outputs": [],
   "source": [
    "df['New'] = list(map(lambda x : \n",
    "                     (if( (x == '국유지') | (x == '시, 도유지') | (x == '군유지')) :\n",
    "                      '국공유지'), df['A8']))"
   ]
  },
  {
   "cell_type": "code",
   "execution_count": null,
   "metadata": {},
   "outputs": [],
   "source": [
    "(df.iloc[i,3] == '국유지') | (df.iloc[i,3] == '시, 도유지') | (df.iloc[i,3] == '군유지')"
   ]
  },
  {
   "cell_type": "code",
   "execution_count": 35,
   "metadata": {},
   "outputs": [
    {
     "name": "stdout",
     "output_type": "stream",
     "text": [
      "0\n"
     ]
    }
   ],
   "source": [
    "if ( df.iloc[12365,3] is None ) :\n",
    "    print(1)\n",
    "else :\n",
    "    print(0)"
   ]
  },
  {
   "cell_type": "code",
   "execution_count": 37,
   "metadata": {},
   "outputs": [
    {
     "data": {
      "text/plain": [
       "float"
      ]
     },
     "execution_count": 37,
     "metadata": {},
     "output_type": "execute_result"
    }
   ],
   "source": [
    "type(df.iloc[12365,3])"
   ]
  },
  {
   "cell_type": "code",
   "execution_count": 45,
   "metadata": {},
   "outputs": [
    {
     "data": {
      "text/plain": [
       "True"
      ]
     },
     "execution_count": 45,
     "metadata": {},
     "output_type": "execute_result"
    }
   ],
   "source": [
    "np.isnan(df.iloc[12365,3])"
   ]
  },
  {
   "cell_type": "code",
   "execution_count": 50,
   "metadata": {},
   "outputs": [],
   "source": [
    "x = []\n",
    "t = []\n",
    "for i in range(len(df)) :\n",
    "    if ( (df.iloc[i,3] == '개인') | (df.iloc[i,3] == '법인') | (df.iloc[i,3] == '일본인, 창씨명등') | (df.iloc[i,3] == '기타단체') | (df.iloc[i,3] =='종교단체') | (df.iloc[i,3] == '종중') | (df.iloc[i,3] == '외국인, 외국공공기관')) :\n",
    "        x.append('사유지')\n",
    "        t.append(0)\n",
    "    elif ( (df.iloc[i,3] == '국유지') | (df.iloc[i,3] == '시, 도유지') | (df.iloc[i,3] == '군유지') ) :\n",
    "        x.append('국공유지')\n",
    "        t.append(1)\n",
    "    elif ( np.isnan(df.iloc[i,3]) ):\n",
    "        x.append('미정')\n",
    "        t.append(2)"
   ]
  },
  {
   "cell_type": "code",
   "execution_count": 51,
   "metadata": {},
   "outputs": [
    {
     "data": {
      "text/plain": [
       "array(['사유지', '미정', '국공유지'], dtype=object)"
      ]
     },
     "execution_count": 51,
     "metadata": {},
     "output_type": "execute_result"
    }
   ],
   "source": [
    "pd.Series(x).unique()"
   ]
  },
  {
   "cell_type": "code",
   "execution_count": 52,
   "metadata": {},
   "outputs": [],
   "source": [
    "df['new'] = x\n",
    "df['new1'] = t"
   ]
  },
  {
   "cell_type": "code",
   "execution_count": 53,
   "metadata": {},
   "outputs": [
    {
     "data": {
      "text/html": [
       "<div>\n",
       "<style scoped>\n",
       "    .dataframe tbody tr th:only-of-type {\n",
       "        vertical-align: middle;\n",
       "    }\n",
       "\n",
       "    .dataframe tbody tr th {\n",
       "        vertical-align: top;\n",
       "    }\n",
       "\n",
       "    .dataframe thead th {\n",
       "        text-align: right;\n",
       "    }\n",
       "</style>\n",
       "<table border=\"1\" class=\"dataframe\">\n",
       "  <thead>\n",
       "    <tr style=\"text-align: right;\">\n",
       "      <th></th>\n",
       "      <th>A0</th>\n",
       "      <th>A1</th>\n",
       "      <th>A2</th>\n",
       "      <th>A8</th>\n",
       "      <th>new</th>\n",
       "      <th>new1</th>\n",
       "    </tr>\n",
       "  </thead>\n",
       "  <tbody>\n",
       "    <tr>\n",
       "      <th>0</th>\n",
       "      <td>2871041025102930004</td>\n",
       "      <td>2871041025</td>\n",
       "      <td>인천광역시 강화군 삼산면 매음리</td>\n",
       "      <td>개인</td>\n",
       "      <td>사유지</td>\n",
       "      <td>0</td>\n",
       "    </tr>\n",
       "    <tr>\n",
       "      <th>1</th>\n",
       "      <td>2871041025110620024</td>\n",
       "      <td>2871041025</td>\n",
       "      <td>인천광역시 강화군 삼산면 매음리</td>\n",
       "      <td>NaN</td>\n",
       "      <td>미정</td>\n",
       "      <td>2</td>\n",
       "    </tr>\n",
       "    <tr>\n",
       "      <th>2</th>\n",
       "      <td>2871041025100620005</td>\n",
       "      <td>2871041025</td>\n",
       "      <td>인천광역시 강화군 삼산면 매음리</td>\n",
       "      <td>개인</td>\n",
       "      <td>사유지</td>\n",
       "      <td>0</td>\n",
       "    </tr>\n",
       "    <tr>\n",
       "      <th>3</th>\n",
       "      <td>2871041024105910000</td>\n",
       "      <td>2871041024</td>\n",
       "      <td>인천광역시 강화군 삼산면 석포리</td>\n",
       "      <td>개인</td>\n",
       "      <td>사유지</td>\n",
       "      <td>0</td>\n",
       "    </tr>\n",
       "    <tr>\n",
       "      <th>4</th>\n",
       "      <td>2871041024105740006</td>\n",
       "      <td>2871041024</td>\n",
       "      <td>인천광역시 강화군 삼산면 석포리</td>\n",
       "      <td>개인</td>\n",
       "      <td>사유지</td>\n",
       "      <td>0</td>\n",
       "    </tr>\n",
       "  </tbody>\n",
       "</table>\n",
       "</div>"
      ],
      "text/plain": [
       "                    A0          A1                 A2   A8  new  new1\n",
       "0  2871041025102930004  2871041025  인천광역시 강화군 삼산면 매음리   개인  사유지     0\n",
       "1  2871041025110620024  2871041025  인천광역시 강화군 삼산면 매음리  NaN   미정     2\n",
       "2  2871041025100620005  2871041025  인천광역시 강화군 삼산면 매음리   개인  사유지     0\n",
       "3  2871041024105910000  2871041024  인천광역시 강화군 삼산면 석포리   개인  사유지     0\n",
       "4  2871041024105740006  2871041024  인천광역시 강화군 삼산면 석포리   개인  사유지     0"
      ]
     },
     "execution_count": 53,
     "metadata": {},
     "output_type": "execute_result"
    }
   ],
   "source": [
    "df.head()"
   ]
  },
  {
   "cell_type": "code",
   "execution_count": 54,
   "metadata": {},
   "outputs": [],
   "source": [
    "#df.to_csv(\"01.03 토지소유갱신.csv\", encoding = 'CP949', index = False)"
   ]
  }
 ],
 "metadata": {
  "kernelspec": {
   "display_name": "Python 3",
   "language": "python",
   "name": "python3"
  },
  "language_info": {
   "codemirror_mode": {
    "name": "ipython",
    "version": 3
   },
   "file_extension": ".py",
   "mimetype": "text/x-python",
   "name": "python",
   "nbconvert_exporter": "python",
   "pygments_lexer": "ipython3",
   "version": "3.7.3"
  }
 },
 "nbformat": 4,
 "nbformat_minor": 2
}
